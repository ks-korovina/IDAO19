{
 "cells": [
  {
   "cell_type": "code",
   "execution_count": 3,
   "metadata": {
    "scrolled": true
   },
   "outputs": [
    {
     "data": {
      "text/plain": [
       "<module 'utils' from '/home/shirobokov/IDAO/utils.py'>"
      ]
     },
     "execution_count": 3,
     "metadata": {},
     "output_type": "execute_result"
    }
   ],
   "source": [
    "import numpy as np\n",
    "import pandas as pd\n",
    "import swifter\n",
    "\n",
    "\n",
    "import importlib\n",
    "import utils\n",
    "importlib.reload(utils)"
   ]
  },
  {
   "cell_type": "markdown",
   "metadata": {},
   "source": [
    "## Hits for public test set"
   ]
  },
  {
   "cell_type": "code",
   "execution_count": null,
   "metadata": {},
   "outputs": [],
   "source": [
    "test = utils.load_full_test_csv()"
   ]
  },
  {
   "cell_type": "code",
   "execution_count": null,
   "metadata": {
    "scrolled": false
   },
   "outputs": [
    {
     "name": "stderr",
     "output_type": "stream",
     "text": [
      "Pandas Apply:  14%|█▍        | 105274/726095 [02:35<14:56, 692.28it/s]"
     ]
    }
   ],
   "source": [
    "test_features = test.swifter.apply(utils.find_closest_hit_per_station, result_type=\"expand\", axis=1)"
   ]
  },
  {
   "cell_type": "code",
   "execution_count": null,
   "metadata": {},
   "outputs": [],
   "source": [
    "test_features.columns = [\n",
    "    \"closest_x_0\", \"closest_x_1\", \"closest_x_2\", \"closest_x_3\",\n",
    "    \"closest_y_0\", \"closest_y_1\", \"closest_y_2\", \"closest_y_3\",\n",
    "    \"mean_of_squared_0\",      \"mean_of_squared_1\",      \"mean_of_squared_2\",      \"mean_of_squared_3\",\n",
    "    \"mean_0\",      \"mean_1\",      \"mean_2\",      \"mean_3\",\n",
    "    \"median_0\",    \"median_1\",    \"median_2\",    \"median_3\",\n",
    "]"
   ]
  },
  {
   "cell_type": "code",
   "execution_count": null,
   "metadata": {
    "collapsed": true
   },
   "outputs": [],
   "source": [
    "test_features.to_csv(utils.PATH + \"hits_test_old_features.csv\", index=None)"
   ]
  },
  {
   "cell_type": "code",
   "execution_count": 9,
   "metadata": {
    "scrolled": true
   },
   "outputs": [
    {
     "data": {
      "text/plain": [
       "'../data/IDAO/IDAO-MuID/'"
      ]
     },
     "execution_count": 9,
     "metadata": {},
     "output_type": "execute_result"
    }
   ],
   "source": [
    "utils.PATH"
   ]
  },
  {
   "cell_type": "markdown",
   "metadata": {},
   "source": [
    "## Hits for final test set"
   ]
  },
  {
   "cell_type": "code",
   "execution_count": null,
   "metadata": {
    "collapsed": true
   },
   "outputs": [],
   "source": [
    "test_final = utils.load_full_test_final_csv()"
   ]
  },
  {
   "cell_type": "code",
   "execution_count": null,
   "metadata": {},
   "outputs": [],
   "source": [
    "test_final_features = test_final.swifter.apply(utils.find_closest_hit_per_station, result_type=\"expand\", axis=1)"
   ]
  },
  {
   "cell_type": "code",
   "execution_count": null,
   "metadata": {},
   "outputs": [],
   "source": [
    "test_final_features.columns = [\n",
    "    \"closest_x_0\", \"closest_x_1\", \"closest_x_2\", \"closest_x_3\",\n",
    "    \"closest_y_0\", \"closest_y_1\", \"closest_y_2\", \"closest_y_3\",\n",
    "    \"mean_of_squared_0\",      \"mean_of_squared_1\",      \"mean_of_squared_2\",      \"mean_of_squared_3\",\n",
    "    \"mean_0\",      \"mean_1\",      \"mean_2\",      \"mean_3\",\n",
    "    \"median_0\",    \"median_1\",    \"median_2\",    \"median_3\",\n",
    "]"
   ]
  },
  {
   "cell_type": "code",
   "execution_count": null,
   "metadata": {},
   "outputs": [],
   "source": [
    "test_final_features.to_csv(utils.PATH + \"hits_test_final_features.csv\", index=None)"
   ]
  }
 ],
 "metadata": {
  "kernelspec": {
   "display_name": "Python 3",
   "language": "python",
   "name": "python3"
  },
  "language_info": {
   "codemirror_mode": {
    "name": "ipython",
    "version": 3
   },
   "file_extension": ".py",
   "mimetype": "text/x-python",
   "name": "python",
   "nbconvert_exporter": "python",
   "pygments_lexer": "ipython3",
   "version": "3.7.2"
  }
 },
 "nbformat": 4,
 "nbformat_minor": 2
}
