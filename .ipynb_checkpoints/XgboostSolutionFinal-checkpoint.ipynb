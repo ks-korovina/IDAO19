{
 "cells": [
  {
   "cell_type": "markdown",
   "metadata": {},
   "source": [
    "# Training pipeline for xgboost solution"
   ]
  },
  {
   "cell_type": "code",
   "execution_count": 1,
   "metadata": {},
   "outputs": [],
   "source": [
    "# %env CUDA_VISIBLE_DEVICES=3\n",
    "# %env LIBRARY_PATH=/usr/local/cuda/lib64\n",
    "import sys\n",
    "# sys.path.append(\"/home/shirobokov/.local/lib/python3.6/site-packages/\")"
   ]
  },
  {
   "cell_type": "code",
   "execution_count": 9,
   "metadata": {},
   "outputs": [],
   "source": [
    "import os\n",
    "import numpy as np\n",
    "import pandas as pd\n",
    "import swifter\n",
    "from sklearn.model_selection import train_test_split\n",
    "# import catboost\n",
    "\n",
    "from copy import deepcopy\n",
    "\n",
    "import importlib\n",
    "\n",
    "import utils\n",
    "importlib.reload(utils)\n",
    "\n",
    "\n",
    "import matplotlib.pyplot as plt\n",
    "%matplotlib inline\n",
    "\n",
    "plt.rcParams[\"figure.figsize\"] = (16, 9)\n",
    "plt.rcParams[\"font.size\"] = 14"
   ]
  },
  {
   "cell_type": "code",
   "execution_count": 13,
   "metadata": {},
   "outputs": [
    {
     "ename": "AssertionError",
     "evalue": "put your path to data in utils",
     "output_type": "error",
     "traceback": [
      "\u001b[0;31m---------------------------------------------------------------------------\u001b[0m",
      "\u001b[0;31mAssertionError\u001b[0m                            Traceback (most recent call last)",
      "\u001b[0;32m<ipython-input-13-5afd84a10742>\u001b[0m in \u001b[0;36m<module>\u001b[0;34m\u001b[0m\n\u001b[0;32m----> 1\u001b[0;31m \u001b[0;32massert\u001b[0m \u001b[0;32mnot\u001b[0m \u001b[0mutils\u001b[0m\u001b[0;34m.\u001b[0m\u001b[0mPATH\u001b[0m\u001b[0;34m,\u001b[0m \u001b[0;34m\"put your path to data in utils\"\u001b[0m\u001b[0;34m\u001b[0m\u001b[0;34m\u001b[0m\u001b[0m\n\u001b[0m",
      "\u001b[0;31mAssertionError\u001b[0m: put your path to data in utils"
     ]
    }
   ],
   "source": [
    "assert not utils.PATH, \"put your path to data in utils with / at the end\""
   ]
  },
  {
   "cell_type": "markdown",
   "metadata": {},
   "source": [
    "# Load data"
   ]
  },
  {
   "cell_type": "code",
   "execution_count": 5,
   "metadata": {
    "collapsed": true
   },
   "outputs": [],
   "source": [
    "train = pd.read_csv(\"~/data/IDAO/IDAO-MuID/train.csv\")"
   ]
  },
  {
   "cell_type": "code",
   "execution_count": 6,
   "metadata": {
    "collapsed": true
   },
   "outputs": [],
   "source": [
    "%load_ext autoreload\n",
    "%autoreload 2\n",
    "\n",
    "train_copy = deepcopy(train)"
   ]
  },
  {
   "cell_type": "code",
   "execution_count": 22,
   "metadata": {
    "collapsed": true
   },
   "outputs": [],
   "source": [
    "new_features = pd.read_csv(utils.PATH + \"hits_train_features.csv\")"
   ]
  },
  {
   "cell_type": "code",
   "execution_count": 23,
   "metadata": {
    "collapsed": true
   },
   "outputs": [],
   "source": [
    "train_copy = pd.concat([train_copy, new_features], axis=1)"
   ]
  },
  {
   "cell_type": "code",
   "execution_count": 25,
   "metadata": {
    "collapsed": true
   },
   "outputs": [],
   "source": [
    "from feature_creation import add_momentum_features,\\\n",
    "                             add_coordinates_features, add_nshared_eq_zero, \\\n",
    "                             compute_d2_with_matchedhit,\\\n",
    "                             compute_d2_with_mean, add_na_at3, add_na_at4, \\\n",
    "                             compute_d2_with_closest, compute_binary_hits "
   ]
  },
  {
   "cell_type": "code",
   "execution_count": 26,
   "metadata": {
    "collapsed": true
   },
   "outputs": [],
   "source": [
    "def make_my_features(df, is_train=True):\n",
    "    # Ksushas\n",
    "\n",
    "    df = compute_d2_with_closest(df)\n",
    "    df = compute_d2_with_mean(df)\n",
    "    df = compute_d2_with_matchedhit(df)\n",
    "    \n",
    "    # Sashas    \n",
    "    add_distance_to_closest(df)\n",
    "    add_momentum_features(df)\n",
    "    add_coordinates_features(df)\n",
    "    df[\"mass_0\"] = df[\"MatchedHit_DT[0]\"] * df[\"P\"]\n",
    "    df[\"mass_0\"][df[\"mass_0\"] < 0] = np.nan\n",
    "    \n",
    "    df.drop(columns=['MatchedHit_TYPE[0]', 'MatchedHit_TYPE[1]', 'MatchedHit_TYPE[2]', 'MatchedHit_TYPE[3]',\n",
    "       'MatchedHit_X[0]', 'MatchedHit_X[1]', 'MatchedHit_X[2]', 'MatchedHit_X[3]',\n",
    "       'MatchedHit_Y[0]', 'MatchedHit_Y[1]', 'MatchedHit_Y[2]', 'MatchedHit_Y[3]',\n",
    "       'MatchedHit_Z[0]', 'MatchedHit_Z[1]', 'MatchedHit_Z[2]', 'MatchedHit_Z[3]',\n",
    "       'MatchedHit_DX[0]', 'MatchedHit_DX[1]', 'MatchedHit_DX[2]', 'MatchedHit_DX[3]',\n",
    "       'MatchedHit_DY[0]', 'MatchedHit_DY[1]', 'MatchedHit_DY[2]', 'MatchedHit_DY[3]',\n",
    "        'MatchedHit_DZ[0]', 'MatchedHit_DZ[1]', 'MatchedHit_DZ[2]', 'MatchedHit_DZ[3]',\n",
    "       'MatchedHit_T[0]', 'MatchedHit_T[1]', 'MatchedHit_T[2]', 'MatchedHit_T[3]', \n",
    "        'MatchedHit_DT[0]', 'MatchedHit_DT[1]', 'MatchedHit_DT[2]', 'MatchedHit_DT[3]',\n",
    "        'Lextra_X[0]', 'Lextra_X[1]', 'Lextra_X[2]', 'Lextra_X[3]',\n",
    "        'Lextra_Y[0]', 'Lextra_Y[1]', 'Lextra_Y[2]', 'Lextra_Y[3]',\n",
    "        'Mextra_DX2[0]', 'Mextra_DX2[1]', 'Mextra_DX2[2]', 'Mextra_DX2[3]',\n",
    "        'Mextra_DY2[0]', 'Mextra_DY2[1]', 'Mextra_DY2[2]', 'Mextra_DY2[3]'], inplace=True)\n",
    "    \n",
    "    df.drop(columns=['mean_of_squared_0', 'mean_of_squared_1',\n",
    "       'mean_of_squared_2', 'mean_of_squared_3', 'mean_0', 'mean_1', 'mean_2',\n",
    "       'mean_3', 'median_1', 'median_2', 'median_3', 'd2_mean'], inplace=True)\n",
    "    \n",
    "    y, weights = None, None\n",
    "    if is_train:\n",
    "        y = df.label\n",
    "        weights = df.weight\n",
    "        df.drop(columns=[\"sWeight\", \"label\", \"kinWeight\", \"weight\"], inplace=True)\n",
    "    \n",
    "    intermediate_features_to_drop = ['FOI_hits_X',\n",
    "       'FOI_hits_Y', 'FOI_hits_Z', 'FOI_hits_DX', 'FOI_hits_DY', 'FOI_hits_DZ',\n",
    "       'FOI_hits_T', 'FOI_hits_DT', 'FOI_hits_S',\n",
    "       'closest_x_0', 'closest_x_1', 'closest_x_2',\n",
    "       'closest_x_3', 'closest_y_0', 'closest_y_1', 'closest_y_2',\n",
    "       'closest_y_3',\n",
    "       'ndof']\n",
    "    \n",
    "    df.drop(columns=intermediate_features_to_drop, inplace=True)\n",
    "    \n",
    "    return y, weights"
   ]
  },
  {
   "cell_type": "code",
   "execution_count": 27,
   "metadata": {},
   "outputs": [
    {
     "name": "stderr",
     "output_type": "stream",
     "text": [
      "/opt/conda/anaconda3/lib/python3.6/site-packages/ipykernel_launcher.py:32: SettingWithCopyWarning: \n",
      "A value is trying to be set on a copy of a slice from a DataFrame\n",
      "\n",
      "See the caveats in the documentation: http://pandas.pydata.org/pandas-docs/stable/indexing.html#indexing-view-versus-copy\n"
     ]
    }
   ],
   "source": [
    "y, weights = make_my_features(train_copy)"
   ]
  },
  {
   "cell_type": "code",
   "execution_count": 28,
   "metadata": {
    "scrolled": true
   },
   "outputs": [
    {
     "data": {
      "text/plain": [
       "ncl[0]                   0\n",
       "ncl[1]                   0\n",
       "ncl[2]                   0\n",
       "ncl[3]                   0\n",
       "avg_cs[0]                0\n",
       "avg_cs[1]                0\n",
       "avg_cs[2]                0\n",
       "avg_cs[3]                0\n",
       "NShared                  0\n",
       "FOI_hits_N               0\n",
       "PT                       0\n",
       "P                        0\n",
       "particle_type            0\n",
       "median_0                 0\n",
       "d2_closest          168468\n",
       "d2_matched               0\n",
       "dx_0_squared             0\n",
       "dy_0_squared             0\n",
       "dxy_0_squared            0\n",
       "dx_1_squared             0\n",
       "dy_1_squared             0\n",
       "dxy_1_squared            0\n",
       "dx_2_squared             0\n",
       "dy_2_squared             0\n",
       "dxy_2_squared            0\n",
       "dx_3_squared             0\n",
       "dy_3_squared             0\n",
       "dxy_3_squared            0\n",
       "P_forward                0\n",
       "tan_momentum             0\n",
       "dist_0                   0\n",
       "dist_ratio_mean          0\n",
       "dist_ratio_std           0\n",
       "phi_diff_mean            0\n",
       "phi_diff_std             0\n",
       "path_rho                 0\n",
       "path_phi                 0\n",
       "mass_0             1741540\n",
       "dtype: int64"
      ]
     },
     "execution_count": 28,
     "metadata": {},
     "output_type": "execute_result"
    }
   ],
   "source": [
    "train_copy.isna().sum()"
   ]
  },
  {
   "cell_type": "code",
   "execution_count": 30,
   "metadata": {
    "scrolled": true
   },
   "outputs": [
    {
     "data": {
      "text/plain": [
       "Index(['ncl[0]', 'ncl[1]', 'ncl[2]', 'ncl[3]', 'avg_cs[0]', 'avg_cs[1]',\n",
       "       'avg_cs[2]', 'avg_cs[3]', 'NShared', 'FOI_hits_N', 'PT', 'P',\n",
       "       'particle_type', 'median_0', 'd2_closest', 'd2_matched', 'dx_0_squared',\n",
       "       'dy_0_squared', 'dxy_0_squared', 'dx_1_squared', 'dy_1_squared',\n",
       "       'dxy_1_squared', 'dx_2_squared', 'dy_2_squared', 'dxy_2_squared',\n",
       "       'dx_3_squared', 'dy_3_squared', 'dxy_3_squared', 'P_forward',\n",
       "       'tan_momentum', 'dist_0', 'dist_ratio_mean', 'dist_ratio_std',\n",
       "       'phi_diff_mean', 'phi_diff_std', 'path_rho', 'path_phi', 'mass_0'],\n",
       "      dtype='object')"
      ]
     },
     "execution_count": 30,
     "metadata": {},
     "output_type": "execute_result"
    }
   ],
   "source": [
    "train_copy.columns"
   ]
  },
  {
   "cell_type": "code",
   "execution_count": 50,
   "metadata": {},
   "outputs": [],
   "source": [
    "train_copy.drop(columns=['mean_of_squared_0', 'mean_of_squared_1',\n",
    "       'mean_of_squared_2', 'mean_of_squared_3', 'mean_0', 'mean_1', 'mean_2',\n",
    "       'mean_3', 'median_1', 'median_2', 'median_3'], inplace=True)"
   ]
  },
  {
   "cell_type": "code",
   "execution_count": 52,
   "metadata": {},
   "outputs": [],
   "source": [
    "train_copy.drop(columns=[\"mass\"], inplace=True)"
   ]
  },
  {
   "cell_type": "code",
   "execution_count": 53,
   "metadata": {},
   "outputs": [
    {
     "data": {
      "text/plain": [
       "Index(['ncl[0]', 'ncl[1]', 'ncl[2]', 'ncl[3]', 'avg_cs[0]', 'avg_cs[1]',\n",
       "       'avg_cs[2]', 'avg_cs[3]', 'NShared', 'FOI_hits_N', 'PT', 'P',\n",
       "       'particle_type', 'median_0', 'd2_closest', 'd2_mean', 'd2_matched',\n",
       "       'P_forward', 'tan_momentum', 'dist_0', 'dist_ratio_mean',\n",
       "       'dist_ratio_std', 'phi_diff_mean', 'phi_diff_std', 'path_rho',\n",
       "       'path_phi', 'mass_0'],\n",
       "      dtype='object')"
      ]
     },
     "execution_count": 53,
     "metadata": {},
     "output_type": "execute_result"
    }
   ],
   "source": [
    "train_copy.columns"
   ]
  },
  {
   "cell_type": "code",
   "execution_count": 31,
   "metadata": {
    "collapsed": true
   },
   "outputs": [],
   "source": [
    "# train_copy['row_has_nan'] = pd.isna(train_copy).any(axis=1)\n",
    "train_copy.fillna(train_copy.mean(axis=0), inplace=True)"
   ]
  },
  {
   "cell_type": "code",
   "execution_count": 33,
   "metadata": {
    "collapsed": true
   },
   "outputs": [],
   "source": [
    "# y_proton = train_copy[\"particle_type\"] != 2\n",
    "train_copy.drop(columns=['particle_type'], inplace=True)"
   ]
  },
  {
   "cell_type": "markdown",
   "metadata": {},
   "source": [
    "# Model"
   ]
  },
  {
   "cell_type": "code",
   "execution_count": 10,
   "metadata": {
    "scrolled": true
   },
   "outputs": [],
   "source": [
    "try:\n",
    "    train_copy.drop(columns=['particle_type'], inplace=True)\n",
    "except:\n",
    "    pass"
   ]
  },
  {
   "cell_type": "code",
   "execution_count": 39,
   "metadata": {
    "collapsed": true
   },
   "outputs": [],
   "source": [
    "X_train, X_test, y_train, y_test, train_weights, test_weights = train_test_split(train_copy,\n",
    "                                                                                 y,\n",
    "                                                                                 weights,\n",
    "                                                                                 test_size=0.15, random_state=42)"
   ]
  },
  {
   "cell_type": "markdown",
   "metadata": {},
   "source": [
    "## xgboost"
   ]
  },
  {
   "cell_type": "code",
   "execution_count": 40,
   "metadata": {
    "collapsed": true
   },
   "outputs": [],
   "source": [
    "# import torch \n",
    "import xgboost"
   ]
  },
  {
   "cell_type": "code",
   "execution_count": 41,
   "metadata": {
    "collapsed": true
   },
   "outputs": [],
   "source": [
    "from scoring import rejection90"
   ]
  },
  {
   "cell_type": "code",
   "execution_count": 42,
   "metadata": {
    "collapsed": true
   },
   "outputs": [],
   "source": [
    "def Rejection90Xgboost(approxes, dtrain):\n",
    "    target = dtrain.get_label()\n",
    "    \n",
    "    if target.shape == y_train.values.shape:\n",
    "        weight = train_weights.values\n",
    "    elif target.shape == y_test.values.shape:\n",
    "        weight = test_weights.values\n",
    "    else:\n",
    "        raise Exception(\"weights not found\")\n",
    "    \n",
    "    return 'Rejection90', -rejection90(target, approxes, weight)"
   ]
  },
  {
   "cell_type": "code",
   "execution_count": 43,
   "metadata": {
    "collapsed": true
   },
   "outputs": [],
   "source": [
    "def Rejection90XgboostLGBM(dtrain, approxes):\n",
    "    target = dtrain\n",
    "\n",
    "    if target.shape == y_train.values.shape:\n",
    "        weight = train_weights.values\n",
    "    elif target.shape == y_test.values.shape:\n",
    "        weight = test_weights.values\n",
    "    else:\n",
    "        raise Exception(\"weights not found\")\n",
    "    \n",
    "    return 'Rejection90', rejection90(target, approxes, weight), True"
   ]
  },
  {
   "cell_type": "code",
   "execution_count": 44,
   "metadata": {
    "collapsed": true
   },
   "outputs": [],
   "source": [
    "eval_set = [(X_train.values, y_train.values),\n",
    "            (X_test.values, y_test.values)]"
   ]
  },
  {
   "cell_type": "code",
   "execution_count": 45,
   "metadata": {},
   "outputs": [
    {
     "data": {
      "text/html": [
       "<div>\n",
       "<style scoped>\n",
       "    .dataframe tbody tr th:only-of-type {\n",
       "        vertical-align: middle;\n",
       "    }\n",
       "\n",
       "    .dataframe tbody tr th {\n",
       "        vertical-align: top;\n",
       "    }\n",
       "\n",
       "    .dataframe thead th {\n",
       "        text-align: right;\n",
       "    }\n",
       "</style>\n",
       "<table border=\"1\" class=\"dataframe\">\n",
       "  <thead>\n",
       "    <tr style=\"text-align: right;\">\n",
       "      <th></th>\n",
       "      <th>ncl[0]</th>\n",
       "      <th>ncl[1]</th>\n",
       "      <th>ncl[2]</th>\n",
       "      <th>ncl[3]</th>\n",
       "      <th>avg_cs[0]</th>\n",
       "      <th>avg_cs[1]</th>\n",
       "      <th>avg_cs[2]</th>\n",
       "      <th>avg_cs[3]</th>\n",
       "      <th>NShared</th>\n",
       "      <th>FOI_hits_N</th>\n",
       "      <th>...</th>\n",
       "      <th>P_forward</th>\n",
       "      <th>tan_momentum</th>\n",
       "      <th>dist_0</th>\n",
       "      <th>dist_ratio_mean</th>\n",
       "      <th>dist_ratio_std</th>\n",
       "      <th>phi_diff_mean</th>\n",
       "      <th>phi_diff_std</th>\n",
       "      <th>path_rho</th>\n",
       "      <th>path_phi</th>\n",
       "      <th>mass_0</th>\n",
       "    </tr>\n",
       "  </thead>\n",
       "  <tbody>\n",
       "    <tr>\n",
       "      <th>4277394</th>\n",
       "      <td>75</td>\n",
       "      <td>26</td>\n",
       "      <td>16</td>\n",
       "      <td>9</td>\n",
       "      <td>2.746667</td>\n",
       "      <td>2.769231</td>\n",
       "      <td>1.312500</td>\n",
       "      <td>1.111111</td>\n",
       "      <td>0</td>\n",
       "      <td>5</td>\n",
       "      <td>...</td>\n",
       "      <td>34653.35</td>\n",
       "      <td>0.070256</td>\n",
       "      <td>973.093548</td>\n",
       "      <td>1.073763</td>\n",
       "      <td>0.003384</td>\n",
       "      <td>0.001766</td>\n",
       "      <td>0.001424</td>\n",
       "      <td>243.367449</td>\n",
       "      <td>1.770714</td>\n",
       "      <td>39705.140208</td>\n",
       "    </tr>\n",
       "    <tr>\n",
       "      <th>1804788</th>\n",
       "      <td>73</td>\n",
       "      <td>15</td>\n",
       "      <td>7</td>\n",
       "      <td>11</td>\n",
       "      <td>2.000000</td>\n",
       "      <td>2.266667</td>\n",
       "      <td>1.142857</td>\n",
       "      <td>1.181818</td>\n",
       "      <td>0</td>\n",
       "      <td>4</td>\n",
       "      <td>...</td>\n",
       "      <td>13076.13</td>\n",
       "      <td>0.217781</td>\n",
       "      <td>3604.313462</td>\n",
       "      <td>1.074751</td>\n",
       "      <td>0.004744</td>\n",
       "      <td>0.000265</td>\n",
       "      <td>0.000375</td>\n",
       "      <td>1121.197710</td>\n",
       "      <td>2.805594</td>\n",
       "      <td>0.000000</td>\n",
       "    </tr>\n",
       "    <tr>\n",
       "      <th>4909604</th>\n",
       "      <td>33</td>\n",
       "      <td>7</td>\n",
       "      <td>5</td>\n",
       "      <td>12</td>\n",
       "      <td>1.363636</td>\n",
       "      <td>1.285714</td>\n",
       "      <td>1.200000</td>\n",
       "      <td>1.083333</td>\n",
       "      <td>0</td>\n",
       "      <td>9</td>\n",
       "      <td>...</td>\n",
       "      <td>20707.34</td>\n",
       "      <td>0.071465</td>\n",
       "      <td>418.516985</td>\n",
       "      <td>1.073520</td>\n",
       "      <td>0.025741</td>\n",
       "      <td>0.009218</td>\n",
       "      <td>0.008779</td>\n",
       "      <td>53.060154</td>\n",
       "      <td>-0.815793</td>\n",
       "      <td>0.000000</td>\n",
       "    </tr>\n",
       "    <tr>\n",
       "      <th>2857242</th>\n",
       "      <td>29</td>\n",
       "      <td>24</td>\n",
       "      <td>32</td>\n",
       "      <td>21</td>\n",
       "      <td>3.310345</td>\n",
       "      <td>1.416667</td>\n",
       "      <td>1.656250</td>\n",
       "      <td>1.428572</td>\n",
       "      <td>0</td>\n",
       "      <td>5</td>\n",
       "      <td>...</td>\n",
       "      <td>61300.94</td>\n",
       "      <td>0.072434</td>\n",
       "      <td>1123.743338</td>\n",
       "      <td>1.078929</td>\n",
       "      <td>0.007452</td>\n",
       "      <td>0.001934</td>\n",
       "      <td>0.001272</td>\n",
       "      <td>312.891881</td>\n",
       "      <td>0.696713</td>\n",
       "      <td>0.000000</td>\n",
       "    </tr>\n",
       "    <tr>\n",
       "      <th>486640</th>\n",
       "      <td>82</td>\n",
       "      <td>27</td>\n",
       "      <td>22</td>\n",
       "      <td>19</td>\n",
       "      <td>2.560976</td>\n",
       "      <td>2.037037</td>\n",
       "      <td>1.863636</td>\n",
       "      <td>1.210526</td>\n",
       "      <td>0</td>\n",
       "      <td>5</td>\n",
       "      <td>...</td>\n",
       "      <td>10941.46</td>\n",
       "      <td>0.207672</td>\n",
       "      <td>3587.690227</td>\n",
       "      <td>1.084248</td>\n",
       "      <td>0.015391</td>\n",
       "      <td>0.005566</td>\n",
       "      <td>0.008601</td>\n",
       "      <td>1148.383446</td>\n",
       "      <td>0.357419</td>\n",
       "      <td>0.000000</td>\n",
       "    </tr>\n",
       "  </tbody>\n",
       "</table>\n",
       "<p>5 rows × 37 columns</p>\n",
       "</div>"
      ],
      "text/plain": [
       "         ncl[0]  ncl[1]  ncl[2]  ncl[3]  avg_cs[0]  avg_cs[1]  avg_cs[2]  \\\n",
       "4277394      75      26      16       9   2.746667   2.769231   1.312500   \n",
       "1804788      73      15       7      11   2.000000   2.266667   1.142857   \n",
       "4909604      33       7       5      12   1.363636   1.285714   1.200000   \n",
       "2857242      29      24      32      21   3.310345   1.416667   1.656250   \n",
       "486640       82      27      22      19   2.560976   2.037037   1.863636   \n",
       "\n",
       "         avg_cs[3]  NShared  FOI_hits_N  ...  P_forward  tan_momentum  \\\n",
       "4277394   1.111111        0           5  ...   34653.35      0.070256   \n",
       "1804788   1.181818        0           4  ...   13076.13      0.217781   \n",
       "4909604   1.083333        0           9  ...   20707.34      0.071465   \n",
       "2857242   1.428572        0           5  ...   61300.94      0.072434   \n",
       "486640    1.210526        0           5  ...   10941.46      0.207672   \n",
       "\n",
       "              dist_0  dist_ratio_mean  dist_ratio_std  phi_diff_mean  \\\n",
       "4277394   973.093548         1.073763        0.003384       0.001766   \n",
       "1804788  3604.313462         1.074751        0.004744       0.000265   \n",
       "4909604   418.516985         1.073520        0.025741       0.009218   \n",
       "2857242  1123.743338         1.078929        0.007452       0.001934   \n",
       "486640   3587.690227         1.084248        0.015391       0.005566   \n",
       "\n",
       "         phi_diff_std     path_rho  path_phi        mass_0  \n",
       "4277394      0.001424   243.367449  1.770714  39705.140208  \n",
       "1804788      0.000375  1121.197710  2.805594      0.000000  \n",
       "4909604      0.008779    53.060154 -0.815793      0.000000  \n",
       "2857242      0.001272   312.891881  0.696713      0.000000  \n",
       "486640       0.008601  1148.383446  0.357419      0.000000  \n",
       "\n",
       "[5 rows x 37 columns]"
      ]
     },
     "execution_count": 45,
     "metadata": {},
     "output_type": "execute_result"
    }
   ],
   "source": [
    "X_train.head()"
   ]
  },
  {
   "cell_type": "markdown",
   "metadata": {},
   "source": [
    "### negative ON"
   ]
  },
  {
   "cell_type": "code",
   "execution_count": 46,
   "metadata": {
    "collapsed": true
   },
   "outputs": [],
   "source": [
    "# gpu_params = {}\n",
    "# gpu_params['gpu_id'] = 0\n",
    "# #gpu_params['max_bin'] = 16\n",
    "# gpu_params['tree_method'] = 'gpu_exact'\n",
    "\n",
    "# cv_models = []\n",
    "# for depth in [3,4,5,6,7,8,9]:\n",
    "#     for l2_reg in [0.1, 0.5, 0.8, 1, 5]:\n",
    "#         for l1_reg in [0.05, 0.1, 0.3, 0.7]:\n",
    "#             model = xgboost.XGBClassifier(n_estimators=500, max_depth=4, n_jobs=20,\n",
    "#                                           objective='binary:logistic', random_state=1543, learning_rate=0.05,\n",
    "#                                           reg_lambda=l2_reg, reg_alpha=l1_reg, colsample_bytree=0.9)\n",
    "            \n",
    "#             model.fit(X_train.values, y_train.values, sample_weight=train_weights.values,\n",
    "#                       eval_set=eval_set, sample_weight_eval_set=[train_weights.values, test_weights.values], \n",
    "#                       early_stopping_rounds=100, eval_metric=Rejection90Xgboost)            \n",
    "            \n",
    "#             cv_models.append(model)\n",
    "\n",
    "# import pickle as pkl\n",
    "\n",
    "# for i in range(len(cv_models)):\n",
    "#     with open(\"models_%i.pkl\"%i, \"wb\") as f:\n",
    "#         pkl.dump(cv_models[i], f)\n",
    "\n",
    "# import os\n",
    "# os.path.getsize(\"models_0.pkl\")\n",
    "\n",
    "# with open(\"models_0.pkl\", \"rb\") as f:\n",
    "#     cv_models_recovered = pkl.load(f)\n",
    "\n",
    "# print(np.argmax([x.best_score for x in cv_models]))\n",
    "\n",
    "# Stopping. Best iteration:\n",
    "# [313]\tvalidation_0-error:0.096585\tvalidation_1-error:0.202203\tvalidation_0-Rejection90:-0.934858\n",
    "#             validation_1-Rejection90:-0.716012\n",
    "\n",
    "\n",
    "# Stopping. Best iteration:\n",
    "# [199]\tvalidation_0-error:0.186085\tvalidation_1-error:0.192356\tvalidation_0-Rejection90:-0.773712\n",
    "#             validation_1-Rejection90:-0.758821\n",
    "\n",
    "\n",
    "# 0.7740878233542022\n",
    "\n",
    "\n",
    "# [42]\tvalidation_0-error:0.164734\tvalidation_1-error:0.182392\tvalidation_0-Rejection90:-0.799089\n",
    "#             validation_1-Rejection90:-0.769059\n",
    "\n",
    "#reg_lambda=10, "
   ]
  },
  {
   "cell_type": "code",
   "execution_count": 54,
   "metadata": {
    "collapsed": true
   },
   "outputs": [],
   "source": [
    "model = xgboost.XGBClassifier(n_estimators=500, max_depth=6, n_jobs=20,\n",
    "                              objective='binary:logistic', random_state=1543, learning_rate=0.2,\n",
    "                              reg_alpha=0.1)#, colsample_bytree=0.9)"
   ]
  },
  {
   "cell_type": "code",
   "execution_count": 55,
   "metadata": {
    "scrolled": true
   },
   "outputs": [
    {
     "name": "stdout",
     "output_type": "stream",
     "text": [
      "[0]\tvalidation_0-error:0.25634\tvalidation_1-error:0.263131\tvalidation_0-Rejection90:-0.69302\tvalidation_1-Rejection90:-0.687808\n",
      "Multiple eval metrics have been passed: 'validation_1-Rejection90' will be used for early stopping.\n",
      "\n",
      "Will train until validation_1-Rejection90 hasn't improved in 15 rounds.\n",
      "[1]\tvalidation_0-error:0.244707\tvalidation_1-error:0.251151\tvalidation_0-Rejection90:-0.720594\tvalidation_1-Rejection90:-0.721765\n",
      "[2]\tvalidation_0-error:0.187552\tvalidation_1-error:0.189481\tvalidation_0-Rejection90:-0.730379\tvalidation_1-Rejection90:-0.726454\n",
      "[3]\tvalidation_0-error:0.18805\tvalidation_1-error:0.189259\tvalidation_0-Rejection90:-0.735776\tvalidation_1-Rejection90:-0.728105\n",
      "[4]\tvalidation_0-error:0.186123\tvalidation_1-error:0.18796\tvalidation_0-Rejection90:-0.74061\tvalidation_1-Rejection90:-0.730963\n",
      "[5]\tvalidation_0-error:0.184823\tvalidation_1-error:0.188227\tvalidation_0-Rejection90:-0.751563\tvalidation_1-Rejection90:-0.738299\n",
      "[6]\tvalidation_0-error:0.182585\tvalidation_1-error:0.187358\tvalidation_0-Rejection90:-0.75628\tvalidation_1-Rejection90:-0.741573\n",
      "[7]\tvalidation_0-error:0.179285\tvalidation_1-error:0.186279\tvalidation_0-Rejection90:-0.761743\tvalidation_1-Rejection90:-0.749509\n",
      "[8]\tvalidation_0-error:0.17906\tvalidation_1-error:0.188458\tvalidation_0-Rejection90:-0.765407\tvalidation_1-Rejection90:-0.750555\n",
      "[9]\tvalidation_0-error:0.176909\tvalidation_1-error:0.186283\tvalidation_0-Rejection90:-0.767103\tvalidation_1-Rejection90:-0.753155\n",
      "[10]\tvalidation_0-error:0.174393\tvalidation_1-error:0.184081\tvalidation_0-Rejection90:-0.769734\tvalidation_1-Rejection90:-0.755026\n",
      "[11]\tvalidation_0-error:0.17373\tvalidation_1-error:0.184031\tvalidation_0-Rejection90:-0.771595\tvalidation_1-Rejection90:-0.755324\n",
      "[12]\tvalidation_0-error:0.172013\tvalidation_1-error:0.182924\tvalidation_0-Rejection90:-0.773934\tvalidation_1-Rejection90:-0.758543\n",
      "[13]\tvalidation_0-error:0.170932\tvalidation_1-error:0.184779\tvalidation_0-Rejection90:-0.77751\tvalidation_1-Rejection90:-0.757111\n",
      "[14]\tvalidation_0-error:0.168283\tvalidation_1-error:0.184196\tvalidation_0-Rejection90:-0.782702\tvalidation_1-Rejection90:-0.760609\n",
      "[15]\tvalidation_0-error:0.167618\tvalidation_1-error:0.183374\tvalidation_0-Rejection90:-0.783707\tvalidation_1-Rejection90:-0.76101\n",
      "[16]\tvalidation_0-error:0.169272\tvalidation_1-error:0.185488\tvalidation_0-Rejection90:-0.787085\tvalidation_1-Rejection90:-0.761683\n",
      "[17]\tvalidation_0-error:0.168066\tvalidation_1-error:0.18426\tvalidation_0-Rejection90:-0.788344\tvalidation_1-Rejection90:-0.759893\n",
      "[18]\tvalidation_0-error:0.16833\tvalidation_1-error:0.183396\tvalidation_0-Rejection90:-0.790258\tvalidation_1-Rejection90:-0.760128\n",
      "[19]\tvalidation_0-error:0.166167\tvalidation_1-error:0.183423\tvalidation_0-Rejection90:-0.792959\tvalidation_1-Rejection90:-0.758532\n",
      "[20]\tvalidation_0-error:0.16523\tvalidation_1-error:0.183075\tvalidation_0-Rejection90:-0.795438\tvalidation_1-Rejection90:-0.760849\n",
      "[21]\tvalidation_0-error:0.164735\tvalidation_1-error:0.182659\tvalidation_0-Rejection90:-0.798478\tvalidation_1-Rejection90:-0.764058\n",
      "[22]\tvalidation_0-error:0.163021\tvalidation_1-error:0.181871\tvalidation_0-Rejection90:-0.798816\tvalidation_1-Rejection90:-0.764621\n",
      "[23]\tvalidation_0-error:0.162295\tvalidation_1-error:0.179149\tvalidation_0-Rejection90:-0.801811\tvalidation_1-Rejection90:-0.769233\n",
      "[24]\tvalidation_0-error:0.163023\tvalidation_1-error:0.180287\tvalidation_0-Rejection90:-0.804449\tvalidation_1-Rejection90:-0.765855\n",
      "[25]\tvalidation_0-error:0.161931\tvalidation_1-error:0.18148\tvalidation_0-Rejection90:-0.805609\tvalidation_1-Rejection90:-0.767462\n",
      "[26]\tvalidation_0-error:0.161797\tvalidation_1-error:0.182868\tvalidation_0-Rejection90:-0.806533\tvalidation_1-Rejection90:-0.766655\n",
      "[27]\tvalidation_0-error:0.160222\tvalidation_1-error:0.180065\tvalidation_0-Rejection90:-0.80857\tvalidation_1-Rejection90:-0.770167\n",
      "[28]\tvalidation_0-error:0.159014\tvalidation_1-error:0.181124\tvalidation_0-Rejection90:-0.809658\tvalidation_1-Rejection90:-0.768529\n",
      "[29]\tvalidation_0-error:0.158491\tvalidation_1-error:0.180616\tvalidation_0-Rejection90:-0.810802\tvalidation_1-Rejection90:-0.768032\n",
      "[30]\tvalidation_0-error:0.15814\tvalidation_1-error:0.180887\tvalidation_0-Rejection90:-0.809865\tvalidation_1-Rejection90:-0.767555\n",
      "[31]\tvalidation_0-error:0.157825\tvalidation_1-error:0.181576\tvalidation_0-Rejection90:-0.810468\tvalidation_1-Rejection90:-0.77077\n",
      "[32]\tvalidation_0-error:0.157353\tvalidation_1-error:0.181086\tvalidation_0-Rejection90:-0.81225\tvalidation_1-Rejection90:-0.76786\n",
      "[33]\tvalidation_0-error:0.155987\tvalidation_1-error:0.180876\tvalidation_0-Rejection90:-0.813185\tvalidation_1-Rejection90:-0.770298\n",
      "[34]\tvalidation_0-error:0.155866\tvalidation_1-error:0.1818\tvalidation_0-Rejection90:-0.815253\tvalidation_1-Rejection90:-0.767835\n",
      "[35]\tvalidation_0-error:0.154761\tvalidation_1-error:0.182112\tvalidation_0-Rejection90:-0.817059\tvalidation_1-Rejection90:-0.770771\n",
      "[36]\tvalidation_0-error:0.154284\tvalidation_1-error:0.182127\tvalidation_0-Rejection90:-0.817124\tvalidation_1-Rejection90:-0.769995\n",
      "[37]\tvalidation_0-error:0.154244\tvalidation_1-error:0.180847\tvalidation_0-Rejection90:-0.817602\tvalidation_1-Rejection90:-0.768146\n",
      "[38]\tvalidation_0-error:0.153835\tvalidation_1-error:0.180275\tvalidation_0-Rejection90:-0.818198\tvalidation_1-Rejection90:-0.768554\n",
      "[39]\tvalidation_0-error:0.152876\tvalidation_1-error:0.180271\tvalidation_0-Rejection90:-0.818313\tvalidation_1-Rejection90:-0.769273\n",
      "[40]\tvalidation_0-error:0.152817\tvalidation_1-error:0.179935\tvalidation_0-Rejection90:-0.819312\tvalidation_1-Rejection90:-0.769864\n",
      "[41]\tvalidation_0-error:0.15213\tvalidation_1-error:0.180247\tvalidation_0-Rejection90:-0.82044\tvalidation_1-Rejection90:-0.768477\n",
      "[42]\tvalidation_0-error:0.151177\tvalidation_1-error:0.179951\tvalidation_0-Rejection90:-0.821967\tvalidation_1-Rejection90:-0.768648\n",
      "[43]\tvalidation_0-error:0.151002\tvalidation_1-error:0.179825\tvalidation_0-Rejection90:-0.822606\tvalidation_1-Rejection90:-0.768754\n",
      "[44]\tvalidation_0-error:0.150734\tvalidation_1-error:0.180065\tvalidation_0-Rejection90:-0.82289\tvalidation_1-Rejection90:-0.768728\n",
      "[45]\tvalidation_0-error:0.150351\tvalidation_1-error:0.179521\tvalidation_0-Rejection90:-0.823616\tvalidation_1-Rejection90:-0.768535\n",
      "[46]\tvalidation_0-error:0.14977\tvalidation_1-error:0.179314\tvalidation_0-Rejection90:-0.825068\tvalidation_1-Rejection90:-0.768931\n",
      "[47]\tvalidation_0-error:0.147519\tvalidation_1-error:0.17864\tvalidation_0-Rejection90:-0.827228\tvalidation_1-Rejection90:-0.770262\n",
      "[48]\tvalidation_0-error:0.146449\tvalidation_1-error:0.17817\tvalidation_0-Rejection90:-0.828494\tvalidation_1-Rejection90:-0.76944\n",
      "[49]\tvalidation_0-error:0.146683\tvalidation_1-error:0.17958\tvalidation_0-Rejection90:-0.829594\tvalidation_1-Rejection90:-0.771476\n",
      "[50]\tvalidation_0-error:0.146346\tvalidation_1-error:0.179629\tvalidation_0-Rejection90:-0.830374\tvalidation_1-Rejection90:-0.770899\n",
      "[51]\tvalidation_0-error:0.145659\tvalidation_1-error:0.177965\tvalidation_0-Rejection90:-0.832176\tvalidation_1-Rejection90:-0.771324\n",
      "[52]\tvalidation_0-error:0.144741\tvalidation_1-error:0.178511\tvalidation_0-Rejection90:-0.834005\tvalidation_1-Rejection90:-0.770311\n",
      "[53]\tvalidation_0-error:0.14389\tvalidation_1-error:0.178777\tvalidation_0-Rejection90:-0.835066\tvalidation_1-Rejection90:-0.771118\n",
      "[54]\tvalidation_0-error:0.142462\tvalidation_1-error:0.177993\tvalidation_0-Rejection90:-0.835697\tvalidation_1-Rejection90:-0.771588\n",
      "[55]\tvalidation_0-error:0.142149\tvalidation_1-error:0.178459\tvalidation_0-Rejection90:-0.837121\tvalidation_1-Rejection90:-0.770021\n",
      "[56]\tvalidation_0-error:0.141572\tvalidation_1-error:0.177279\tvalidation_0-Rejection90:-0.837789\tvalidation_1-Rejection90:-0.770335\n",
      "[57]\tvalidation_0-error:0.141281\tvalidation_1-error:0.176933\tvalidation_0-Rejection90:-0.838216\tvalidation_1-Rejection90:-0.770577\n",
      "[58]\tvalidation_0-error:0.140869\tvalidation_1-error:0.176831\tvalidation_0-Rejection90:-0.838375\tvalidation_1-Rejection90:-0.771657\n",
      "[59]\tvalidation_0-error:0.14069\tvalidation_1-error:0.175867\tvalidation_0-Rejection90:-0.839461\tvalidation_1-Rejection90:-0.771714\n",
      "[60]\tvalidation_0-error:0.140359\tvalidation_1-error:0.176058\tvalidation_0-Rejection90:-0.840401\tvalidation_1-Rejection90:-0.772327\n",
      "[61]\tvalidation_0-error:0.1396\tvalidation_1-error:0.174997\tvalidation_0-Rejection90:-0.840737\tvalidation_1-Rejection90:-0.771964\n"
     ]
    },
    {
     "name": "stdout",
     "output_type": "stream",
     "text": [
      "[62]\tvalidation_0-error:0.139373\tvalidation_1-error:0.175708\tvalidation_0-Rejection90:-0.842063\tvalidation_1-Rejection90:-0.769725\n",
      "[63]\tvalidation_0-error:0.137998\tvalidation_1-error:0.175328\tvalidation_0-Rejection90:-0.843723\tvalidation_1-Rejection90:-0.769231\n",
      "[64]\tvalidation_0-error:0.137325\tvalidation_1-error:0.17529\tvalidation_0-Rejection90:-0.844522\tvalidation_1-Rejection90:-0.772148\n",
      "[65]\tvalidation_0-error:0.137206\tvalidation_1-error:0.175323\tvalidation_0-Rejection90:-0.844661\tvalidation_1-Rejection90:-0.772628\n",
      "[66]\tvalidation_0-error:0.136775\tvalidation_1-error:0.175271\tvalidation_0-Rejection90:-0.846257\tvalidation_1-Rejection90:-0.772192\n",
      "[67]\tvalidation_0-error:0.136938\tvalidation_1-error:0.176545\tvalidation_0-Rejection90:-0.846862\tvalidation_1-Rejection90:-0.773487\n",
      "[68]\tvalidation_0-error:0.137189\tvalidation_1-error:0.17629\tvalidation_0-Rejection90:-0.846895\tvalidation_1-Rejection90:-0.774139\n",
      "[69]\tvalidation_0-error:0.136173\tvalidation_1-error:0.174756\tvalidation_0-Rejection90:-0.848458\tvalidation_1-Rejection90:-0.774247\n",
      "[70]\tvalidation_0-error:0.135418\tvalidation_1-error:0.175086\tvalidation_0-Rejection90:-0.84999\tvalidation_1-Rejection90:-0.7741\n",
      "[71]\tvalidation_0-error:0.134271\tvalidation_1-error:0.175084\tvalidation_0-Rejection90:-0.851857\tvalidation_1-Rejection90:-0.77434\n",
      "[72]\tvalidation_0-error:0.133966\tvalidation_1-error:0.175836\tvalidation_0-Rejection90:-0.852267\tvalidation_1-Rejection90:-0.774756\n",
      "[73]\tvalidation_0-error:0.133605\tvalidation_1-error:0.175655\tvalidation_0-Rejection90:-0.853132\tvalidation_1-Rejection90:-0.776302\n",
      "[74]\tvalidation_0-error:0.132396\tvalidation_1-error:0.175675\tvalidation_0-Rejection90:-0.854138\tvalidation_1-Rejection90:-0.776246\n",
      "[75]\tvalidation_0-error:0.13131\tvalidation_1-error:0.175643\tvalidation_0-Rejection90:-0.854748\tvalidation_1-Rejection90:-0.775594\n",
      "[76]\tvalidation_0-error:0.130491\tvalidation_1-error:0.175602\tvalidation_0-Rejection90:-0.854654\tvalidation_1-Rejection90:-0.77515\n",
      "[77]\tvalidation_0-error:0.13032\tvalidation_1-error:0.175203\tvalidation_0-Rejection90:-0.854763\tvalidation_1-Rejection90:-0.775298\n",
      "[78]\tvalidation_0-error:0.130226\tvalidation_1-error:0.174739\tvalidation_0-Rejection90:-0.855604\tvalidation_1-Rejection90:-0.775116\n",
      "[79]\tvalidation_0-error:0.129697\tvalidation_1-error:0.174709\tvalidation_0-Rejection90:-0.856521\tvalidation_1-Rejection90:-0.775954\n",
      "[80]\tvalidation_0-error:0.128888\tvalidation_1-error:0.174374\tvalidation_0-Rejection90:-0.858009\tvalidation_1-Rejection90:-0.7755\n",
      "[81]\tvalidation_0-error:0.127606\tvalidation_1-error:0.174814\tvalidation_0-Rejection90:-0.860279\tvalidation_1-Rejection90:-0.776007\n",
      "[82]\tvalidation_0-error:0.127253\tvalidation_1-error:0.174458\tvalidation_0-Rejection90:-0.861429\tvalidation_1-Rejection90:-0.775984\n",
      "[83]\tvalidation_0-error:0.126575\tvalidation_1-error:0.174381\tvalidation_0-Rejection90:-0.862247\tvalidation_1-Rejection90:-0.775462\n",
      "[84]\tvalidation_0-error:0.126228\tvalidation_1-error:0.174887\tvalidation_0-Rejection90:-0.862623\tvalidation_1-Rejection90:-0.774951\n",
      "[85]\tvalidation_0-error:0.125602\tvalidation_1-error:0.174502\tvalidation_0-Rejection90:-0.863479\tvalidation_1-Rejection90:-0.775212\n",
      "[86]\tvalidation_0-error:0.1253\tvalidation_1-error:0.17445\tvalidation_0-Rejection90:-0.863165\tvalidation_1-Rejection90:-0.776002\n",
      "[87]\tvalidation_0-error:0.125101\tvalidation_1-error:0.173948\tvalidation_0-Rejection90:-0.864213\tvalidation_1-Rejection90:-0.774011\n",
      "[88]\tvalidation_0-error:0.125114\tvalidation_1-error:0.174002\tvalidation_0-Rejection90:-0.86499\tvalidation_1-Rejection90:-0.775746\n",
      "Stopping. Best iteration:\n",
      "[73]\tvalidation_0-error:0.133605\tvalidation_1-error:0.175655\tvalidation_0-Rejection90:-0.853132\tvalidation_1-Rejection90:-0.776302\n",
      "\n"
     ]
    },
    {
     "data": {
      "text/plain": [
       "XGBClassifier(base_score=0.5, booster='gbtree', colsample_bylevel=1,\n",
       "       colsample_bytree=1, gamma=0, learning_rate=0.2, max_delta_step=0,\n",
       "       max_depth=6, min_child_weight=1, missing=None, n_estimators=500,\n",
       "       n_jobs=20, nthread=None, objective='binary:logistic',\n",
       "       random_state=1543, reg_alpha=0.1, reg_lambda=1, scale_pos_weight=1,\n",
       "       seed=None, silent=True, subsample=1)"
      ]
     },
     "execution_count": 55,
     "metadata": {},
     "output_type": "execute_result"
    }
   ],
   "source": [
    "model.fit(X_train.values, y_train.values, sample_weight=train_weights.values,\n",
    "          eval_set=eval_set, sample_weight_eval_set=[train_weights.values, test_weights.values], \n",
    "          early_stopping_rounds=15, eval_metric=Rejection90Xgboost)"
   ]
  },
  {
   "cell_type": "code",
   "execution_count": 56,
   "metadata": {
    "scrolled": true
   },
   "outputs": [
    {
     "data": {
      "text/plain": [
       "74"
      ]
     },
     "execution_count": 56,
     "metadata": {},
     "output_type": "execute_result"
    }
   ],
   "source": [
    "model.best_ntree_limit"
   ]
  },
  {
   "cell_type": "code",
   "execution_count": 57,
   "metadata": {
    "collapsed": true
   },
   "outputs": [],
   "source": [
    "y_pred = model.predict_proba(X_test.values, ntree_limit=model.best_ntree_limit)[:, 1]"
   ]
  },
  {
   "cell_type": "code",
   "execution_count": 58,
   "metadata": {
    "scrolled": false
   },
   "outputs": [
    {
     "data": {
      "text/plain": [
       "0.7763021733195882"
      ]
     },
     "execution_count": 58,
     "metadata": {},
     "output_type": "execute_result"
    }
   ],
   "source": [
    "rejection90(y_test, y_pred, test_weights.values)"
   ]
  },
  {
   "cell_type": "markdown",
   "metadata": {},
   "source": [
    "# lightgbm"
   ]
  },
  {
   "cell_type": "code",
   "execution_count": 88,
   "metadata": {
    "collapsed": true
   },
   "outputs": [],
   "source": [
    "import lightgbm as lgb\n",
    "lgb_params = {\n",
    "    'boosting_type': 'gbdt',\n",
    "    'objective': 'binary',\n",
    "    'metric': \"None\",\n",
    "    'n_estimators': 300,\n",
    "    'silent': -1,\n",
    "    'verbose': 2,\n",
    "    'num_threads': 20,    \n",
    "    'learning_rate': 0.3,\n",
    "#     'subsample': .9,\n",
    "#     'colsample_bytree': 0.5,\n",
    "#     'reg_alpha': .01,\n",
    "#     'reg_lambda': .01,\n",
    "#     'min_split_gain': 0.01,\n",
    "#     'min_child_weight': 10,\n",
    "    'max_depth': 7,\n",
    "}\n",
    "\n",
    "clf = lgb.LGBMClassifier(**lgb_params)"
   ]
  },
  {
   "cell_type": "code",
   "execution_count": 101,
   "metadata": {},
   "outputs": [
    {
     "name": "stdout",
     "output_type": "stream",
     "text": [
      "[1]\tvalid_0's Rejection90: 0.677806\tvalid_1's Rejection90: 0.675122\n",
      "Training until validation scores don't improve for 30 rounds.\n",
      "[2]\tvalid_0's Rejection90: 0.71407\tvalid_1's Rejection90: 0.704521\n",
      "[3]\tvalid_0's Rejection90: 0.726795\tvalid_1's Rejection90: 0.720974\n",
      "[4]\tvalid_0's Rejection90: 0.738858\tvalid_1's Rejection90: 0.736827\n",
      "[5]\tvalid_0's Rejection90: 0.742118\tvalid_1's Rejection90: 0.738882\n",
      "[6]\tvalid_0's Rejection90: 0.747186\tvalid_1's Rejection90: 0.741089\n",
      "[7]\tvalid_0's Rejection90: 0.751484\tvalid_1's Rejection90: 0.741984\n",
      "[8]\tvalid_0's Rejection90: 0.756109\tvalid_1's Rejection90: 0.745029\n",
      "[9]\tvalid_0's Rejection90: 0.758718\tvalid_1's Rejection90: 0.746906\n",
      "[10]\tvalid_0's Rejection90: 0.762557\tvalid_1's Rejection90: 0.7493\n",
      "[11]\tvalid_0's Rejection90: 0.766141\tvalid_1's Rejection90: 0.751163\n",
      "[12]\tvalid_0's Rejection90: 0.767426\tvalid_1's Rejection90: 0.753324\n",
      "[13]\tvalid_0's Rejection90: 0.769079\tvalid_1's Rejection90: 0.754192\n",
      "[14]\tvalid_0's Rejection90: 0.768053\tvalid_1's Rejection90: 0.751084\n",
      "[15]\tvalid_0's Rejection90: 0.769005\tvalid_1's Rejection90: 0.75216\n",
      "[16]\tvalid_0's Rejection90: 0.770895\tvalid_1's Rejection90: 0.75292\n",
      "[17]\tvalid_0's Rejection90: 0.772191\tvalid_1's Rejection90: 0.753448\n",
      "[18]\tvalid_0's Rejection90: 0.775781\tvalid_1's Rejection90: 0.755696\n",
      "[19]\tvalid_0's Rejection90: 0.776778\tvalid_1's Rejection90: 0.756955\n",
      "[20]\tvalid_0's Rejection90: 0.777234\tvalid_1's Rejection90: 0.7565\n",
      "[21]\tvalid_0's Rejection90: 0.779395\tvalid_1's Rejection90: 0.759869\n",
      "[22]\tvalid_0's Rejection90: 0.780246\tvalid_1's Rejection90: 0.758765\n",
      "[23]\tvalid_0's Rejection90: 0.780714\tvalid_1's Rejection90: 0.759863\n",
      "[24]\tvalid_0's Rejection90: 0.782785\tvalid_1's Rejection90: 0.761561\n",
      "[25]\tvalid_0's Rejection90: 0.782665\tvalid_1's Rejection90: 0.762431\n",
      "[26]\tvalid_0's Rejection90: 0.782967\tvalid_1's Rejection90: 0.76401\n",
      "[27]\tvalid_0's Rejection90: 0.783407\tvalid_1's Rejection90: 0.765684\n",
      "[28]\tvalid_0's Rejection90: 0.782487\tvalid_1's Rejection90: 0.765636\n",
      "[29]\tvalid_0's Rejection90: 0.783397\tvalid_1's Rejection90: 0.766278\n",
      "[30]\tvalid_0's Rejection90: 0.783879\tvalid_1's Rejection90: 0.76797\n",
      "[31]\tvalid_0's Rejection90: 0.784432\tvalid_1's Rejection90: 0.767905\n",
      "[32]\tvalid_0's Rejection90: 0.784599\tvalid_1's Rejection90: 0.767829\n",
      "[33]\tvalid_0's Rejection90: 0.786159\tvalid_1's Rejection90: 0.767217\n",
      "[34]\tvalid_0's Rejection90: 0.786457\tvalid_1's Rejection90: 0.765918\n",
      "[35]\tvalid_0's Rejection90: 0.786223\tvalid_1's Rejection90: 0.764047\n",
      "[36]\tvalid_0's Rejection90: 0.786811\tvalid_1's Rejection90: 0.764299\n",
      "[37]\tvalid_0's Rejection90: 0.786527\tvalid_1's Rejection90: 0.762669\n",
      "[38]\tvalid_0's Rejection90: 0.785973\tvalid_1's Rejection90: 0.763189\n",
      "[39]\tvalid_0's Rejection90: 0.786657\tvalid_1's Rejection90: 0.7639\n",
      "[40]\tvalid_0's Rejection90: 0.78689\tvalid_1's Rejection90: 0.763417\n",
      "[41]\tvalid_0's Rejection90: 0.78653\tvalid_1's Rejection90: 0.765298\n",
      "[42]\tvalid_0's Rejection90: 0.787049\tvalid_1's Rejection90: 0.766074\n",
      "[43]\tvalid_0's Rejection90: 0.786385\tvalid_1's Rejection90: 0.766615\n",
      "[44]\tvalid_0's Rejection90: 0.787079\tvalid_1's Rejection90: 0.76707\n",
      "[45]\tvalid_0's Rejection90: 0.786912\tvalid_1's Rejection90: 0.767075\n",
      "[46]\tvalid_0's Rejection90: 0.787004\tvalid_1's Rejection90: 0.767008\n",
      "[47]\tvalid_0's Rejection90: 0.786898\tvalid_1's Rejection90: 0.767007\n",
      "[48]\tvalid_0's Rejection90: 0.786863\tvalid_1's Rejection90: 0.767012\n",
      "[49]\tvalid_0's Rejection90: 0.787124\tvalid_1's Rejection90: 0.766902\n",
      "[50]\tvalid_0's Rejection90: 0.78686\tvalid_1's Rejection90: 0.765683\n",
      "[51]\tvalid_0's Rejection90: 0.787085\tvalid_1's Rejection90: 0.766466\n",
      "[52]\tvalid_0's Rejection90: 0.787\tvalid_1's Rejection90: 0.766297\n",
      "[53]\tvalid_0's Rejection90: 0.787161\tvalid_1's Rejection90: 0.766143\n",
      "[54]\tvalid_0's Rejection90: 0.787596\tvalid_1's Rejection90: 0.766644\n",
      "[55]\tvalid_0's Rejection90: 0.787845\tvalid_1's Rejection90: 0.76474\n",
      "[56]\tvalid_0's Rejection90: 0.788185\tvalid_1's Rejection90: 0.766034\n",
      "[57]\tvalid_0's Rejection90: 0.788409\tvalid_1's Rejection90: 0.766241\n",
      "[58]\tvalid_0's Rejection90: 0.788443\tvalid_1's Rejection90: 0.766268\n",
      "[59]\tvalid_0's Rejection90: 0.788349\tvalid_1's Rejection90: 0.766427\n",
      "[60]\tvalid_0's Rejection90: 0.787598\tvalid_1's Rejection90: 0.766964\n",
      "Early stopping, best iteration is:\n",
      "[30]\tvalid_0's Rejection90: 0.783879\tvalid_1's Rejection90: 0.76797\n"
     ]
    }
   ],
   "source": [
    "clf = clf.fit(\n",
    "    X_train.values, y_train.values,\n",
    "    eval_set=eval_set,\n",
    "    eval_metric=Rejection90XgboostLGBM,\n",
    "    verbose=1,\n",
    "    early_stopping_rounds=30,\n",
    "    sample_weight=train_weights.values,\n",
    "    eval_sample_weight=[train_weights.values, test_weights.values],\n",
    ")"
   ]
  },
  {
   "cell_type": "code",
   "execution_count": 59,
   "metadata": {
    "scrolled": true
   },
   "outputs": [
    {
     "data": {
      "image/png": "[encoded data removed]",
      "text/plain": [
       "<Figure size 1152x2160 with 1 Axes>"
      ]
     },
     "metadata": {},
     "output_type": "display_data"
    }
   ],
   "source": [
    "plt.figure(figsize=(16, 30))\n",
    "(pd.Series(model.feature_importances_, index=train_copy.columns)\n",
    "   .plot(kind='barh'))        # some method chaining, because it's sexy!\n",
    "plt.savefig(\"importances_model4.png\")"
   ]
  },
  {
   "cell_type": "markdown",
   "metadata": {},
   "source": [
    "# Submit"
   ]
  },
  {
   "cell_type": "code",
   "execution_count": 114,
   "metadata": {
    "scrolled": true
   },
   "outputs": [
    {
     "name": "stderr",
     "output_type": "stream",
     "text": [
      "/home/shirobokov/.local/lib/python3.6/site-packages/numpy/lib/arraysetops.py:522: FutureWarning: elementwise comparison failed; returning scalar instead, but in the future will perform elementwise comparison\n",
      "  mask |= (ar1 == a)\n"
     ]
    }
   ],
   "source": [
    "\"\"\" make predictions:\n",
    "- on the entire private test: utils.load_test_final_csv()\n",
    "- on public test set: utils.load_full_test_csv()\n",
    "\"\"\"\n",
    "\n",
    "test = utils.load_full_test_final_csv()"
   ]
  },
  {
   "cell_type": "code",
   "execution_count": 115,
   "metadata": {},
   "outputs": [],
   "source": [
    "\"\"\" make predictions:\n",
    "- on the entire private test: \"hits_test_final_features.csv\"\n",
    "- on public test set: \"hits_test_old_features.csv\"\n",
    "\"\"\"\n",
    "\n",
    "new_features = pd.read_csv(utils.PATH + \"hits_test_final_features.csv\")\n",
    "test = pd.concat([test, new_features], axis=1)"
   ]
  },
  {
   "cell_type": "code",
   "execution_count": 92,
   "metadata": {},
   "outputs": [
    {
     "name": "stderr",
     "output_type": "stream",
     "text": [
      "/opt/conda/anaconda3/lib/python3.6/site-packages/ipykernel_launcher.py:32: SettingWithCopyWarning: \n",
      "A value is trying to be set on a copy of a slice from a DataFrame\n",
      "\n",
      "See the caveats in the documentation: http://pandas.pydata.org/pandas-docs/stable/indexing.html#indexing-view-versus-copy\n"
     ]
    }
   ],
   "source": [
    "y, weights = make_my_features(test, is_train=False)\n",
    "#test.drop(columns=['id'], inplace=True)"
   ]
  },
  {
   "cell_type": "code",
   "execution_count": 93,
   "metadata": {
    "scrolled": false
   },
   "outputs": [
    {
     "data": {
      "text/plain": [
       "(726095, 37)"
      ]
     },
     "execution_count": 93,
     "metadata": {},
     "output_type": "execute_result"
    }
   ],
   "source": [
    "test.shape"
   ]
  },
  {
   "cell_type": "code",
   "execution_count": 94,
   "metadata": {
    "collapsed": true
   },
   "outputs": [],
   "source": [
    "# test['row_has_nan'] = pd.isna(test).any(axis=1)\n",
    "test.fillna(test.mean(axis=0), inplace=True)"
   ]
  },
  {
   "cell_type": "code",
   "execution_count": 95,
   "metadata": {},
   "outputs": [
    {
     "data": {
      "text/plain": [
       "(726095, 37)"
      ]
     },
     "execution_count": 95,
     "metadata": {},
     "output_type": "execute_result"
    }
   ],
   "source": [
    "test.shape"
   ]
  },
  {
   "cell_type": "code",
   "execution_count": 96,
   "metadata": {},
   "outputs": [
    {
     "data": {
      "text/plain": [
       "array([ True,  True,  True,  True,  True,  True,  True,  True,  True,\n",
       "        True,  True,  True,  True,  True,  True,  True,  True,  True,\n",
       "        True,  True,  True,  True,  True,  True,  True,  True,  True,\n",
       "        True,  True,  True,  True,  True,  True,  True,  True,  True,\n",
       "        True])"
      ]
     },
     "execution_count": 96,
     "metadata": {},
     "output_type": "execute_result"
    }
   ],
   "source": [
    "test.columns == train_copy.columns"
   ]
  },
  {
   "cell_type": "code",
   "execution_count": 97,
   "metadata": {},
   "outputs": [
    {
     "data": {
      "text/plain": [
       "(37,)"
      ]
     },
     "execution_count": 97,
     "metadata": {},
     "output_type": "execute_result"
    }
   ],
   "source": [
    "train_copy.columns.shape"
   ]
  },
  {
   "cell_type": "code",
   "execution_count": 84,
   "metadata": {
    "collapsed": true
   },
   "outputs": [],
   "source": [
    "predictions = model.predict_proba(test.values, ntree_limit=model.best_ntree_limit)[:, 1]\n",
    "predictions = predictions.astype(np.float32)\n",
    "prediction_pd = pd.DataFrame(data={\"prediction\": predictions}, index=test.index)"
   ]
  },
  {
   "cell_type": "code",
   "execution_count": 85,
   "metadata": {},
   "outputs": [
    {
     "data": {
      "text/html": [
       "<div>\n",
       "<style scoped>\n",
       "    .dataframe tbody tr th:only-of-type {\n",
       "        vertical-align: middle;\n",
       "    }\n",
       "\n",
       "    .dataframe tbody tr th {\n",
       "        vertical-align: top;\n",
       "    }\n",
       "\n",
       "    .dataframe thead th {\n",
       "        text-align: right;\n",
       "    }\n",
       "</style>\n",
       "<table border=\"1\" class=\"dataframe\">\n",
       "  <thead>\n",
       "    <tr style=\"text-align: right;\">\n",
       "      <th></th>\n",
       "      <th>prediction</th>\n",
       "    </tr>\n",
       "  </thead>\n",
       "  <tbody>\n",
       "    <tr>\n",
       "      <th>0</th>\n",
       "      <td>0.596525</td>\n",
       "    </tr>\n",
       "    <tr>\n",
       "      <th>1</th>\n",
       "      <td>0.580075</td>\n",
       "    </tr>\n",
       "    <tr>\n",
       "      <th>2</th>\n",
       "      <td>0.270541</td>\n",
       "    </tr>\n",
       "    <tr>\n",
       "      <th>3</th>\n",
       "      <td>0.556472</td>\n",
       "    </tr>\n",
       "    <tr>\n",
       "      <th>4</th>\n",
       "      <td>0.547576</td>\n",
       "    </tr>\n",
       "  </tbody>\n",
       "</table>\n",
       "</div>"
      ],
      "text/plain": [
       "   prediction\n",
       "0    0.596525\n",
       "1    0.580075\n",
       "2    0.270541\n",
       "3    0.556472\n",
       "4    0.547576"
      ]
     },
     "execution_count": 85,
     "metadata": {},
     "output_type": "execute_result"
    }
   ],
   "source": [
    "prediction_pd.head()"
   ]
  },
  {
   "cell_type": "code",
   "execution_count": 103,
   "metadata": {
    "scrolled": false
   },
   "outputs": [
    {
     "data": {
      "text/html": [
       "<div>\n",
       "<style scoped>\n",
       "    .dataframe tbody tr th:only-of-type {\n",
       "        vertical-align: middle;\n",
       "    }\n",
       "\n",
       "    .dataframe tbody tr th {\n",
       "        vertical-align: top;\n",
       "    }\n",
       "\n",
       "    .dataframe thead th {\n",
       "        text-align: right;\n",
       "    }\n",
       "</style>\n",
       "<table border=\"1\" class=\"dataframe\">\n",
       "  <thead>\n",
       "    <tr style=\"text-align: right;\">\n",
       "      <th></th>\n",
       "      <th>prediction</th>\n",
       "    </tr>\n",
       "  </thead>\n",
       "  <tbody>\n",
       "    <tr>\n",
       "      <th>0</th>\n",
       "      <td>0.952505</td>\n",
       "    </tr>\n",
       "    <tr>\n",
       "      <th>1</th>\n",
       "      <td>0.816438</td>\n",
       "    </tr>\n",
       "    <tr>\n",
       "      <th>2</th>\n",
       "      <td>0.584181</td>\n",
       "    </tr>\n",
       "    <tr>\n",
       "      <th>3</th>\n",
       "      <td>0.395925</td>\n",
       "    </tr>\n",
       "    <tr>\n",
       "      <th>4</th>\n",
       "      <td>0.950871</td>\n",
       "    </tr>\n",
       "  </tbody>\n",
       "</table>\n",
       "</div>"
      ],
      "text/plain": [
       "   prediction\n",
       "0    0.952505\n",
       "1    0.816438\n",
       "2    0.584181\n",
       "3    0.395925\n",
       "4    0.950871"
      ]
     },
     "execution_count": 103,
     "metadata": {},
     "output_type": "execute_result"
    }
   ],
   "source": [
    "## LBGM\n",
    "\n",
    "predictions2 = clf.predict_proba(test.values)[:, 1]\n",
    "# predictions2 = clf.astype(np.float32)\n",
    "prediction_pd2 = pd.DataFrame(data={\"prediction\": predictions2}, index=test.index)\n",
    "\n",
    "prediction_pd2.head()"
   ]
  },
  {
   "cell_type": "code",
   "execution_count": 110,
   "metadata": {},
   "outputs": [],
   "source": [
    "prediction_pd2['id'] = prediction_pd2.index"
   ]
  },
  {
   "cell_type": "code",
   "execution_count": 111,
   "metadata": {
    "collapsed": true
   },
   "outputs": [],
   "source": [
    "prediction_pd2.to_csv(\"lgbm_submission.csv\", index=None)"
   ]
  },
  {
   "cell_type": "code",
   "execution_count": 73,
   "metadata": {
    "collapsed": true
   },
   "outputs": [],
   "source": [
    "prediction_pd['id'] = prediction_pd.index"
   ]
  },
  {
   "cell_type": "code",
   "execution_count": 112,
   "metadata": {},
   "outputs": [
    {
     "name": "stdout",
     "output_type": "stream",
     "text": [
      "prediction,id\r\n",
      "0.9525050072728659,0\r\n",
      "0.8164376417153902,1\r\n",
      "0.584180955812636,2\r\n",
      "0.3959248685249774,3\r\n",
      "0.9508711022185021,4\r\n",
      "0.674047362618063,5\r\n",
      "0.6551043699814351,6\r\n",
      "0.4251910513708392,7\r\n",
      "0.720128280052794,8\r\n"
     ]
    }
   ],
   "source": [
    "!head -n 10 lgbm_submission.csv"
   ]
  },
  {
   "cell_type": "code",
   "execution_count": 75,
   "metadata": {},
   "outputs": [
    {
     "name": "stdout",
     "output_type": "stream",
     "text": [
      "prediction,id\r\n",
      "0.9309294,0\r\n",
      "0.6029573,1\r\n",
      "0.6222754,2\r\n",
      "0.57703793,3\r\n",
      "0.88307226,4\r\n",
      "0.505771,5\r\n",
      "0.46113193,6\r\n",
      "0.76163733,7\r\n",
      "0.6049282,8\r\n"
     ]
    }
   ],
   "source": [
    "!head -n 10 fourth_submission.csv"
   ]
  },
  {
   "cell_type": "code",
   "execution_count": 102,
   "metadata": {},
   "outputs": [
    {
     "data": {
      "text/plain": [
       "(1452188, 40)"
      ]
     },
     "execution_count": 102,
     "metadata": {},
     "output_type": "execute_result"
    }
   ],
   "source": [
    "test.shape"
   ]
  },
  {
   "cell_type": "code",
   "execution_count": 103,
   "metadata": {},
   "outputs": [
    {
     "data": {
      "text/plain": [
       "(1452188, 2)"
      ]
     },
     "execution_count": 103,
     "metadata": {},
     "output_type": "execute_result"
    }
   ],
   "source": [
    "prediction_pd.shape"
   ]
  },
  {
   "cell_type": "code",
   "execution_count": 116,
   "metadata": {},
   "outputs": [
    {
     "name": "stdout",
     "output_type": "stream",
     "text": [
      "726096 second_submission.csv\r\n"
     ]
    }
   ],
   "source": [
    "! wc -l second_submission.csv"
   ]
  },
  {
   "cell_type": "code",
   "execution_count": 117,
   "metadata": {},
   "outputs": [
    {
     "name": "stdout",
     "output_type": "stream",
     "text": [
      "1452189 third_submission.csv\r\n"
     ]
    }
   ],
   "source": [
    "! wc -l third_submission.csv"
   ]
  },
  {
   "cell_type": "markdown",
   "metadata": {
    "collapsed": true
   },
   "source": [
    "## Blending Xgboost and LGBM models "
   ]
  },
  {
   "cell_type": "code",
   "execution_count": null,
   "metadata": {},
   "outputs": [],
   "source": [
    "blended = 0.2 * prediction_pd2 + 0.8 * prediction_pd\n",
    "blended.to_csv(\"blended_prediction.csv\", index=None)"
   ]
  }
 ],
 "metadata": {
  "kernelspec": {
   "display_name": "Python 3",
   "language": "python",
   "name": "python3"
  },
  "language_info": {
   "codemirror_mode": {
    "name": "ipython",
    "version": 3
   },
   "file_extension": ".py",
   "mimetype": "text/x-python",
   "name": "python",
   "nbconvert_exporter": "python",
   "pygments_lexer": "ipython3",
   "version": "3.7.2"
  },
  "toc": {
   "base_numbering": 1,
   "nav_menu": {},
   "number_sections": true,
   "sideBar": true,
   "skip_h1_title": false,
   "title_cell": "Table of Contents",
   "title_sidebar": "Contents",
   "toc_cell": false,
   "toc_position": {},
   "toc_section_display": true,
   "toc_window_display": false
  },
  "varInspector": {
   "cols": {
    "lenName": 16,
    "lenType": 16,
    "lenVar": 40
   },
   "kernels_config": {
    "python": {
     "delete_cmd_postfix": "",
     "delete_cmd_prefix": "del ",
     "library": "var_list.py",
     "varRefreshCmd": "print(var_dic_list())"
    },
    "r": {
     "delete_cmd_postfix": ") ",
     "delete_cmd_prefix": "rm(",
     "library": "var_list.r",
     "varRefreshCmd": "cat(var_dic_list()) "
    }
   },
   "types_to_exclude": [
    "module",
    "function",
    "builtin_function_or_method",
    "instance",
    "_Feature"
   ],
   "window_display": false
  }
 },
 "nbformat": 4,
 "nbformat_minor": 2
}
